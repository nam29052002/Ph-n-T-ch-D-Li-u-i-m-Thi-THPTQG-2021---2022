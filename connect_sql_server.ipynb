{
 "cells": [
  {
   "cell_type": "code",
   "execution_count": 7,
   "metadata": {},
   "outputs": [],
   "source": [
    "import pyodbc\n",
    "import pandas as pd\n",
    "import numpy as np\n",
    "import matplotlib.pyplot as plt\n",
    "desired_width = 320\n",
    "pd.set_option('display.width', desired_width)\n",
    "\n",
    "\n",
    "diem_2022_df = pd.read_csv('DATA_2022.csv', low_memory=False)\n",
    "\n",
    "diem_2022_df = diem_2022_df.rename(\n",
    "    columns={'sbd': 'SBD', 'ngu_van': 'Ngữ văn', 'toan': 'Toán', 'ngoai_ngu': 'Ngoại ngữ', 'vat_li': 'Vật lý',\n",
    "             'hoa_hoc': 'Hoá học', 'sinh_hoc': 'Sinh học', 'lich_su': 'Lịch sử', 'dia_li': 'Địa lý', 'gdcd': 'GDCD'})\n",
    "diem_2022_df['KHTN'] = round(\n",
    "    (diem_2022_df['Hoá học'] + diem_2022_df['Vật lý'] + diem_2022_df['Sinh học']) / 3, 2)\n",
    "diem_2022_df['KHXH'] = round(\n",
    "    (diem_2022_df['Địa lý'] + diem_2022_df['Lịch sử'] + diem_2022_df['GDCD']) / 3, 2)\n",
    "\n",
    "temp = {'1': 'TP HÀ NỘI', '2': 'TP HỒ CHÍ MINH', '3': 'TP HẢI PHÒNG', '4': 'TP ĐÀ NẴNG', '5': 'HÀ GIANG',\n",
    "        '6': 'CAO BẰNG', '7': 'LAI CHÂU', '8': 'LÀO CAI', '9': 'TUYÊN QUANG', '10': 'LẠNG SƠN',\n",
    "        '11': 'BẮC KẠN', '12': 'THÁI NGUYÊN', '13': 'YÊN BÁI', '14': 'SƠN LA', '15': 'PHÚ THỌ',\n",
    "        '16': 'VĨNH PHÚC', '17': 'QUẢNG NINH', '18': 'BẮC GIANG', '19': 'BẮC NINH',\n",
    "        '21': 'HẢI DƯƠNG', '22': 'HƯNG YÊN', '23': 'HÒA BÌNH', '24': 'HÀ NAM',\n",
    "        '25': 'NAM ĐỊNH', '26': 'THÁI BÌNH', '27': 'NINH BÌNH', '28': 'THANH HÓA',\n",
    "        '29': 'NGHỆ AN', '30': 'HÀ TĨNH',\n",
    "        '31': 'QUẢNG BÌNH', '32': 'QUẢNG TRỊ', '33': 'THỪA THIÊN - HUẾ', '34': 'QUẢNG NAM',\n",
    "        '35': 'QUẢNG NGÃI', '36': 'KON TUM', '37': 'BÌNH ĐỊNH', '38': 'GIA LAI',\n",
    "        '39': 'PHÚ YÊN', '40': 'ĐẮK LẮK',\n",
    "        '41': 'KHÁNH HÒA', '42': 'LÂM ĐỒNG', '43': 'BÌNH PHƯỚC', '44': 'BÌNH DƯƠNG',\n",
    "        '45': 'NINH THUẬN', '46': 'TÂY NINH', '47': 'BÌNH THUẬN', '48': 'ĐỒNG NAI',\n",
    "        '49': 'LONG AN', '50': 'ĐỒNG THÁP',\n",
    "        '51': 'AN GIANG', '52': 'BÀ RỊA', '53': 'TIỀN GIANG', '54': 'KIÊN GIANG',\n",
    "        '55': 'TP CẦN THƠ', '56': 'BẾN TRE', '57': 'VĨNH LONG', '58': 'TRÀ VINH', '59': 'SÓC TRĂNG',\n",
    "        '60': 'BẠC LIÊU',\n",
    "        '61': 'CÀ MAU', '62': 'ĐIỆN BIÊN', '63': 'ĐĂK NÔNG', '64': 'HẬU GIANG'}\n",
    "location = []\n",
    "location = np.floor(diem_2022_df['SBD'] // 10 ** 6)\n",
    "location = location.astype(int)\n",
    "\n",
    "tinhThanh = []\n",
    "for i in range(len(location)):\n",
    "    tmp = str(location[i])\n",
    "    tinhThanh.append(temp.get(tmp))\n",
    "diem_2022_df['Tỉnh thành'] = tinhThanh\n",
    "\n",
    "diem_2022_df = pd.DataFrame({'SBD': diem_2022_df['SBD'], 'Tỉnh thành': diem_2022_df['Tỉnh thành'], 'Toán': diem_2022_df['Toán'],\n",
    "                            'Ngữ văn': diem_2022_df['Ngữ văn'], 'Vật lý': diem_2022_df['Vật lý'], 'Hoá học': diem_2022_df['Hoá học'],\n",
    "                             'Sinh học': diem_2022_df['Sinh học'], 'KHTN': diem_2022_df['KHTN'], 'Lịch sử': diem_2022_df['Lịch sử'],\n",
    "                             'Địa lý': diem_2022_df['Địa lý'], 'GDCD': diem_2022_df['GDCD'], 'KHXH': diem_2022_df['KHXH'], 'Ngoại ngữ': diem_2022_df['Ngoại ngữ']})"
   ]
  },
  {
   "cell_type": "code",
   "execution_count": 20,
   "metadata": {},
   "outputs": [
    {
     "name": "stdout",
     "output_type": "stream",
     "text": [
      "['SQL Server', 'SQL Server Native Client 11.0', 'ODBC Driver 13 for SQL Server', 'SQL Server Native Client RDA 11.0', 'ODBC Driver 17 for SQL Server', 'ODBC Driver 18 for SQL Server']\n"
     ]
    }
   ],
   "source": [
    "conx2022 = pyodbc.connect('DRIVER={ODBC Driver 13 for SQL Server}; SERVER=NAM-S-LAPTOP; Database=BTLPython; UID=BTLPython; PWD=123456789;')\n",
    "print(pyodbc.drivers())\n",
    "cursor = conx2022.cursor()\n",
    "column = ['SBD', 'Toán', 'Ngữ văn', 'Ngoại ngữ', 'Vật lý', 'Hoá học', 'Sinh học', 'Lịch sử', 'Địa lý', 'GDCD']\n",
    "score = [0] * 10\n",
    "for i in range(diem_2022_df['SBD'].count()):\n",
    "    for j in range(len(column)):\n",
    "        if np.isnan(diem_2022_df[column[j]][i]) == False:\n",
    "            if column[j] == 'SBD':\n",
    "                score[j] = int(diem_2022_df[column[j]][i])\n",
    "            else:\n",
    "                score[j] = float(diem_2022_df[column[j]][i])\n",
    "        else:\n",
    "            score[j] = 0\n",
    "    cursor.execute(\n",
    "        'INSERT INTO THPTQG2022(SBD, Toan, Ngu_van, Ngoai_ngu, Vat_ly, Hoa_hoc, Sinh_hoc, Lich_su, Dia_ly, GDCD)\\\n",
    "        VALUES(?, ?, ?, ?, ?, ?, ?, ?, ?, ?)', score[0], score[1], score[2], score[3], score[4], score[5], score[6], score[7], score[8], score[9]\n",
    "    )\n",
    "\n",
    "conx2022.commit()\n",
    "conx2022.close()"
   ]
  }
 ],
 "metadata": {
  "kernelspec": {
   "display_name": "Python 3.11.0 64-bit (microsoft store)",
   "language": "python",
   "name": "python3"
  },
  "language_info": {
   "codemirror_mode": {
    "name": "ipython",
    "version": 3
   },
   "file_extension": ".py",
   "mimetype": "text/x-python",
   "name": "python",
   "nbconvert_exporter": "python",
   "pygments_lexer": "ipython3",
   "version": "3.11.0"
  },
  "orig_nbformat": 4,
  "vscode": {
   "interpreter": {
    "hash": "3160e36a1d3d06ff3754a9c9257d634af3e27fa12a032f9df668fb1fb36e4bc1"
   }
  }
 },
 "nbformat": 4,
 "nbformat_minor": 2
}
