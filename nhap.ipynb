{
 "cells": [
  {
   "cell_type": "code",
   "execution_count": null,
   "metadata": {},
   "outputs": [],
   "source": [
    "import glob\n",
    "import pandas as pd\n",
    "import shutil\n",
    "import re\n",
    "p = input().strip().lstrip()\n",
    "l = p.split(':')\n",
    "print(l[1].strip().lstrip())\n",
    "\n",
    "res = []\n",
    "val = dict()\n",
    "for i in range(65):\n",
    "    p = input().strip().lstrip()\n",
    "    l = p.split(':')\n",
    "    st = l[0]\n",
    "    st.strip().lstrip()\n",
    "    l2 = st.split('–')\n",
    "    ma = l2[0]\n",
    "    tinh = l2[1]\n",
    "    print(ma, tinh, sep=\" \")\n",
    "    val[ma] = tinh\n",
    "\n",
    "for x in val:\n",
    "    print(x, val[x], sep=\" \")\n",
    "\n",
    "for i in range(64):\n",
    "    p = input().strip().lstrip()\n",
    "    Arr = re.split('[:-]', p)\n",
    "    print(Arr)\n",
    "\n",
    "new_dict = {'ma': 'tinh'}\n",
    "for i in range(64):\n",
    "    p = input().strip().lstrip()\n",
    "    l = p.split(\" \", 1)\n",
    "    ma = l[0].strip().lstrip()\n",
    "    tinh = l[-1].strip().lstrip()\n",
    "    new_dict[ma] = tinh\n",
    "\n",
    "print(new_dict)\n",
    "\n",
    "with open('output_file.txt', 'wb') as wfd:\n",
    "    for f in ['1.txt', '2.txt', '3.txt', '4.txt', '5.txt', '6.txt', '7.txt', '8.txt', '9.txt', '10.txt', '11.txt', '12.txt',\n",
    "              '13.txt', '14.txt', '15.txt', '16.txt', '17.txt', '18.txt', '19.txt', '20.txt', '21.txt', '22.txt', '23.txt',\n",
    "              '24.txt', '25.txt', '26.txt', '27.txt', '28.txt', '29.txt', '30.txt', '31.txt', '32.txt', '33.txt', '34.txt',\n",
    "              '35.txt', '36.txt', '37.txt', '38.txt', '39.txt', '40.txt', '41.txt', '42.txt', '43.txt', '44.txt', '45.txt',\n",
    "              '46.txt', '47.txt', '48.txt', '49.txt', '50.txt', '51.txt', '52.txt', '53.txt', '54.txt', '55.txt', '56.txt',\n",
    "              '57.txt', '58.txt', '59.txt', '60.txt', '61.txt', '62.txt', '63.txt', '64.txt']:\n",
    "        with open(f, 'rb') as fd:\n",
    "            shutil.copyfileobj(fd, wfd.write())\n",
    "\n",
    "for i in range(1, 65):\n",
    "    print(\"'\", i, \".txt'\", sep='', end=',')\n",
    "\n",
    "# Gộp các file.xlsx thành 1 file duy nhất => chuyển về file.csv = Execl\n",
    "path = \"C:/Users/laptop/PycharmProjects/PTDLThiTNQG/data2021\"\n",
    "file_list = glob.glob(path + \"/*.xlsx\")\n",
    "excel_list = []\n",
    "for file in file_list:\n",
    "    excel_list.append(pd.read_excel(file))\n",
    "excel_merged = pd.concat(excel_list, ignore_index=True)\n",
    "excel_merged.to_excel('DATA.xlsx', index=False)"
   ]
  }
 ],
 "metadata": {
  "kernelspec": {
   "display_name": "Python 3.11.0 64-bit (microsoft store)",
   "language": "python",
   "name": "python3"
  },
  "language_info": {
   "name": "python",
   "version": "3.11.0"
  },
  "orig_nbformat": 4,
  "vscode": {
   "interpreter": {
    "hash": "3160e36a1d3d06ff3754a9c9257d634af3e27fa12a032f9df668fb1fb36e4bc1"
   }
  }
 },
 "nbformat": 4,
 "nbformat_minor": 2
}
